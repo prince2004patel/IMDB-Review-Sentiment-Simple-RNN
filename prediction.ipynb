{
 "cells": [
  {
   "cell_type": "code",
   "execution_count": 15,
   "metadata": {},
   "outputs": [],
   "source": [
    "import numpy as np\n",
    "import pandas as pd\n",
    "from tensorflow.keras.datasets import imdb\n",
    "from tensorflow.keras.preprocessing import sequence\n",
    "from tensorflow.keras.models import load_model"
   ]
  },
  {
   "cell_type": "code",
   "execution_count": 16,
   "metadata": {},
   "outputs": [],
   "source": [
    "word_index = imdb.get_word_index()\n",
    "reverse_word_index = {value: key for key, value in word_index.items()}"
   ]
  },
  {
   "cell_type": "code",
   "execution_count": 17,
   "metadata": {},
   "outputs": [
    {
     "name": "stderr",
     "output_type": "stream",
     "text": [
      "WARNING:absl:Compiled the loaded model, but the compiled metrics have yet to be built. `model.compile_metrics` will be empty until you train or evaluate the model.\n"
     ]
    },
    {
     "data": {
      "text/html": [
       "<pre style=\"white-space:pre;overflow-x:auto;line-height:normal;font-family:Menlo,'DejaVu Sans Mono',consolas,'Courier New',monospace\"><span style=\"font-weight: bold\">Model: \"sequential\"</span>\n",
       "</pre>\n"
      ],
      "text/plain": [
       "\u001b[1mModel: \"sequential\"\u001b[0m\n"
      ]
     },
     "metadata": {},
     "output_type": "display_data"
    },
    {
     "data": {
      "text/html": [
       "<pre style=\"white-space:pre;overflow-x:auto;line-height:normal;font-family:Menlo,'DejaVu Sans Mono',consolas,'Courier New',monospace\">┏━━━━━━━━━━━━━━━━━━━━━━━━━━━━━━━━━┳━━━━━━━━━━━━━━━━━━━━━━━━┳━━━━━━━━━━━━━━━┓\n",
       "┃<span style=\"font-weight: bold\"> Layer (type)                    </span>┃<span style=\"font-weight: bold\"> Output Shape           </span>┃<span style=\"font-weight: bold\">       Param # </span>┃\n",
       "┡━━━━━━━━━━━━━━━━━━━━━━━━━━━━━━━━━╇━━━━━━━━━━━━━━━━━━━━━━━━╇━━━━━━━━━━━━━━━┩\n",
       "│ embedding (<span style=\"color: #0087ff; text-decoration-color: #0087ff\">Embedding</span>)           │ (<span style=\"color: #00d7ff; text-decoration-color: #00d7ff\">None</span>, <span style=\"color: #00af00; text-decoration-color: #00af00\">500</span>, <span style=\"color: #00af00; text-decoration-color: #00af00\">128</span>)       │     <span style=\"color: #00af00; text-decoration-color: #00af00\">1,280,000</span> │\n",
       "├─────────────────────────────────┼────────────────────────┼───────────────┤\n",
       "│ simple_rnn (<span style=\"color: #0087ff; text-decoration-color: #0087ff\">SimpleRNN</span>)          │ (<span style=\"color: #00d7ff; text-decoration-color: #00d7ff\">None</span>, <span style=\"color: #00af00; text-decoration-color: #00af00\">128</span>)            │        <span style=\"color: #00af00; text-decoration-color: #00af00\">32,896</span> │\n",
       "├─────────────────────────────────┼────────────────────────┼───────────────┤\n",
       "│ dense (<span style=\"color: #0087ff; text-decoration-color: #0087ff\">Dense</span>)                   │ (<span style=\"color: #00d7ff; text-decoration-color: #00d7ff\">None</span>, <span style=\"color: #00af00; text-decoration-color: #00af00\">1</span>)              │           <span style=\"color: #00af00; text-decoration-color: #00af00\">129</span> │\n",
       "└─────────────────────────────────┴────────────────────────┴───────────────┘\n",
       "</pre>\n"
      ],
      "text/plain": [
       "┏━━━━━━━━━━━━━━━━━━━━━━━━━━━━━━━━━┳━━━━━━━━━━━━━━━━━━━━━━━━┳━━━━━━━━━━━━━━━┓\n",
       "┃\u001b[1m \u001b[0m\u001b[1mLayer (type)                   \u001b[0m\u001b[1m \u001b[0m┃\u001b[1m \u001b[0m\u001b[1mOutput Shape          \u001b[0m\u001b[1m \u001b[0m┃\u001b[1m \u001b[0m\u001b[1m      Param #\u001b[0m\u001b[1m \u001b[0m┃\n",
       "┡━━━━━━━━━━━━━━━━━━━━━━━━━━━━━━━━━╇━━━━━━━━━━━━━━━━━━━━━━━━╇━━━━━━━━━━━━━━━┩\n",
       "│ embedding (\u001b[38;5;33mEmbedding\u001b[0m)           │ (\u001b[38;5;45mNone\u001b[0m, \u001b[38;5;34m500\u001b[0m, \u001b[38;5;34m128\u001b[0m)       │     \u001b[38;5;34m1,280,000\u001b[0m │\n",
       "├─────────────────────────────────┼────────────────────────┼───────────────┤\n",
       "│ simple_rnn (\u001b[38;5;33mSimpleRNN\u001b[0m)          │ (\u001b[38;5;45mNone\u001b[0m, \u001b[38;5;34m128\u001b[0m)            │        \u001b[38;5;34m32,896\u001b[0m │\n",
       "├─────────────────────────────────┼────────────────────────┼───────────────┤\n",
       "│ dense (\u001b[38;5;33mDense\u001b[0m)                   │ (\u001b[38;5;45mNone\u001b[0m, \u001b[38;5;34m1\u001b[0m)              │           \u001b[38;5;34m129\u001b[0m │\n",
       "└─────────────────────────────────┴────────────────────────┴───────────────┘\n"
      ]
     },
     "metadata": {},
     "output_type": "display_data"
    },
    {
     "data": {
      "text/html": [
       "<pre style=\"white-space:pre;overflow-x:auto;line-height:normal;font-family:Menlo,'DejaVu Sans Mono',consolas,'Courier New',monospace\"><span style=\"font-weight: bold\"> Total params: </span><span style=\"color: #00af00; text-decoration-color: #00af00\">1,313,027</span> (5.01 MB)\n",
       "</pre>\n"
      ],
      "text/plain": [
       "\u001b[1m Total params: \u001b[0m\u001b[38;5;34m1,313,027\u001b[0m (5.01 MB)\n"
      ]
     },
     "metadata": {},
     "output_type": "display_data"
    },
    {
     "data": {
      "text/html": [
       "<pre style=\"white-space:pre;overflow-x:auto;line-height:normal;font-family:Menlo,'DejaVu Sans Mono',consolas,'Courier New',monospace\"><span style=\"font-weight: bold\"> Trainable params: </span><span style=\"color: #00af00; text-decoration-color: #00af00\">1,313,025</span> (5.01 MB)\n",
       "</pre>\n"
      ],
      "text/plain": [
       "\u001b[1m Trainable params: \u001b[0m\u001b[38;5;34m1,313,025\u001b[0m (5.01 MB)\n"
      ]
     },
     "metadata": {},
     "output_type": "display_data"
    },
    {
     "data": {
      "text/html": [
       "<pre style=\"white-space:pre;overflow-x:auto;line-height:normal;font-family:Menlo,'DejaVu Sans Mono',consolas,'Courier New',monospace\"><span style=\"font-weight: bold\"> Non-trainable params: </span><span style=\"color: #00af00; text-decoration-color: #00af00\">0</span> (0.00 B)\n",
       "</pre>\n"
      ],
      "text/plain": [
       "\u001b[1m Non-trainable params: \u001b[0m\u001b[38;5;34m0\u001b[0m (0.00 B)\n"
      ]
     },
     "metadata": {},
     "output_type": "display_data"
    },
    {
     "data": {
      "text/html": [
       "<pre style=\"white-space:pre;overflow-x:auto;line-height:normal;font-family:Menlo,'DejaVu Sans Mono',consolas,'Courier New',monospace\"><span style=\"font-weight: bold\"> Optimizer params: </span><span style=\"color: #00af00; text-decoration-color: #00af00\">2</span> (12.00 B)\n",
       "</pre>\n"
      ],
      "text/plain": [
       "\u001b[1m Optimizer params: \u001b[0m\u001b[38;5;34m2\u001b[0m (12.00 B)\n"
      ]
     },
     "metadata": {},
     "output_type": "display_data"
    }
   ],
   "source": [
    "model = load_model('simple_rnn_imdb.h5')\n",
    "model.summary()"
   ]
  },
  {
   "cell_type": "code",
   "execution_count": 18,
   "metadata": {},
   "outputs": [
    {
     "data": {
      "text/plain": [
       "[array([[-0.3404877 ,  0.39847904, -0.3836271 , ...,  0.4152286 ,\n",
       "         -0.3598434 ,  0.38747245],\n",
       "        [ 0.01658639, -0.00599805,  0.00548458, ..., -0.02247316,\n",
       "         -0.00184068,  0.03144346],\n",
       "        [-0.04001736,  0.00901491,  0.00484395, ...,  0.02255411,\n",
       "         -0.08556118,  0.01608327],\n",
       "        ...,\n",
       "        [-0.00374073, -0.04003809, -0.00322828, ...,  0.0234963 ,\n",
       "         -0.01681913, -0.04811918],\n",
       "        [ 0.06037185, -0.07611981, -0.01870378, ...,  0.00881288,\n",
       "         -0.00079873, -0.00930175],\n",
       "        [ 0.03975879, -0.03086562, -0.0066804 , ...,  0.0101492 ,\n",
       "         -0.0014175 , -0.02257999]], dtype=float32),\n",
       " array([[ 0.07363076,  0.18287216, -0.10708626, ...,  0.07003391,\n",
       "         -0.07166965,  0.04515146],\n",
       "        [ 0.02375935, -0.2241135 , -0.03374711, ..., -0.10771422,\n",
       "          0.08922736, -0.10677487],\n",
       "        [ 0.07097583,  0.03100346,  0.0633356 , ..., -0.08608969,\n",
       "          0.07047564,  0.10275117],\n",
       "        ...,\n",
       "        [ 0.04097394,  0.06115685, -0.17020452, ...,  0.12376788,\n",
       "          0.03432994, -0.00346966],\n",
       "        [ 0.02019622,  0.08098169, -0.02970349, ..., -0.10844928,\n",
       "          0.08961649, -0.0063206 ],\n",
       "        [ 0.0071157 , -0.16183363,  0.05977849, ..., -0.1244025 ,\n",
       "          0.03734224,  0.04597344]], dtype=float32),\n",
       " array([[ 0.01407737, -0.0447833 , -0.28717515, ...,  0.06382281,\n",
       "         -0.06376794,  0.08909076],\n",
       "        [-0.05877392,  0.10770405, -0.05592566, ..., -0.11152794,\n",
       "         -0.04205093,  0.07155903],\n",
       "        [-0.03014932,  0.18552817, -0.06001504, ..., -0.0911857 ,\n",
       "         -0.01427992,  0.00342567],\n",
       "        ...,\n",
       "        [-0.08667888, -0.20022401, -0.03992916, ...,  0.06445599,\n",
       "         -0.1100829 ,  0.23603609],\n",
       "        [-0.09440985, -0.03481466, -0.10255374, ...,  0.04020476,\n",
       "         -0.09221378, -0.07417724],\n",
       "        [ 0.0274666 , -0.11987682, -0.17036341, ..., -0.01085023,\n",
       "          0.05243151, -0.07676631]], dtype=float32),\n",
       " array([ 3.36329290e-03, -2.38108709e-02, -4.43483703e-02, -7.70649267e-03,\n",
       "         1.77186225e-02, -2.43529417e-02, -3.81060615e-02, -5.14939055e-03,\n",
       "         5.31424349e-03,  1.20993201e-02, -6.16237568e-03,  1.46862376e-03,\n",
       "        -2.41442807e-02, -2.97866818e-02, -1.63857583e-02, -4.49014874e-03,\n",
       "        -6.39583543e-03, -5.53921498e-02, -1.72412042e-02, -2.33419742e-05,\n",
       "         4.03068252e-02, -3.96438539e-02,  2.21126759e-03, -1.24032982e-02,\n",
       "         1.84019823e-02, -1.69373825e-02, -1.16147036e-02, -7.13424012e-03,\n",
       "        -4.50792210e-03, -7.80195417e-03, -2.30909884e-02,  3.91173555e-04,\n",
       "        -3.74077968e-02, -3.31051350e-02, -1.09112659e-03, -5.88975251e-02,\n",
       "        -5.79774231e-02,  2.46693939e-03, -1.93078090e-02, -4.60521551e-03,\n",
       "        -2.53231544e-03,  1.15775466e-02, -6.74754148e-03, -4.80392948e-03,\n",
       "        -1.11736171e-02, -3.32256779e-02, -2.57558227e-02, -2.40298770e-02,\n",
       "        -3.57855596e-02,  1.78043393e-03, -9.68652032e-03,  1.58645976e-02,\n",
       "        -5.11335954e-02, -2.32094843e-02,  2.23459210e-03, -6.68603275e-03,\n",
       "        -1.00597311e-02,  2.64273342e-02, -9.48491134e-03, -1.66486343e-03,\n",
       "        -8.62813462e-03,  8.00384115e-03, -3.32124531e-02, -4.92355181e-03,\n",
       "        -6.01495476e-03, -1.50029305e-02,  2.62647448e-03,  8.22043046e-03,\n",
       "         1.18345851e-02, -9.21501312e-03,  2.55347486e-03,  6.74501434e-03,\n",
       "        -7.11333181e-04,  2.49483914e-04,  1.53954374e-02, -1.49141205e-03,\n",
       "        -6.42458070e-03, -5.13804704e-02, -7.16429437e-03, -6.10222807e-03,\n",
       "        -1.19006876e-02,  2.18696916e-03, -3.81896868e-02, -3.00973561e-02,\n",
       "        -3.78637156e-03, -1.87287945e-02, -6.05384912e-03, -2.56641842e-02,\n",
       "         2.70478502e-02, -7.64693692e-03,  1.63675211e-02, -6.98709395e-03,\n",
       "        -6.39540749e-03,  3.40336165e-03, -1.25638740e-02, -1.17586292e-02,\n",
       "        -1.59064587e-02,  4.35704784e-03,  1.60488635e-02,  1.45933880e-02,\n",
       "        -5.89473080e-03,  4.65393476e-02, -1.62939932e-02, -2.78083701e-02,\n",
       "        -6.91436417e-03, -3.84448431e-02, -8.68401676e-03, -1.48843583e-02,\n",
       "        -1.05040870e-03, -2.35805232e-02,  3.43579613e-02, -1.83370691e-02,\n",
       "         8.87946226e-03, -1.01017123e-02, -6.21974794e-03,  1.34637002e-02,\n",
       "         8.99447128e-04,  7.80551974e-03, -9.56825272e-04, -1.02203181e-02,\n",
       "        -4.32871981e-03, -7.53058726e-03, -4.42152284e-03, -1.28790755e-02,\n",
       "        -9.70355875e-04, -3.40702967e-03, -4.50895866e-03,  1.25001306e-02],\n",
       "       dtype=float32),\n",
       " array([[ 0.17268313],\n",
       "        [ 0.23716304],\n",
       "        [-0.18738768],\n",
       "        [-0.39503282],\n",
       "        [-0.12279253],\n",
       "        [-0.04020925],\n",
       "        [ 0.05540399],\n",
       "        [-0.18755583],\n",
       "        [ 0.34204534],\n",
       "        [-0.02875963],\n",
       "        [ 0.18384801],\n",
       "        [-0.38597965],\n",
       "        [ 0.22968438],\n",
       "        [ 0.14015257],\n",
       "        [-0.15092729],\n",
       "        [-0.0930452 ],\n",
       "        [-0.09417676],\n",
       "        [ 0.01413537],\n",
       "        [ 0.15606521],\n",
       "        [-0.1221988 ],\n",
       "        [-0.67875123],\n",
       "        [-0.07955969],\n",
       "        [-0.16811381],\n",
       "        [-0.25087157],\n",
       "        [-0.19974987],\n",
       "        [-0.07819163],\n",
       "        [ 0.02333047],\n",
       "        [-0.15238237],\n",
       "        [-0.19039108],\n",
       "        [ 0.04531533],\n",
       "        [-0.31203362],\n",
       "        [ 0.23099   ],\n",
       "        [-0.04155668],\n",
       "        [ 0.08393778],\n",
       "        [-0.11976187],\n",
       "        [-0.04770482],\n",
       "        [-0.16403042],\n",
       "        [-0.20215173],\n",
       "        [-0.05476273],\n",
       "        [-0.19445515],\n",
       "        [ 0.03135335],\n",
       "        [ 0.43345037],\n",
       "        [-0.12369128],\n",
       "        [ 0.2327875 ],\n",
       "        [-0.11754984],\n",
       "        [-0.1955169 ],\n",
       "        [-0.47347042],\n",
       "        [ 0.03109596],\n",
       "        [-0.03066397],\n",
       "        [-0.13513413],\n",
       "        [-0.0426034 ],\n",
       "        [-0.6618577 ],\n",
       "        [ 0.24339561],\n",
       "        [-0.00446678],\n",
       "        [-0.56337076],\n",
       "        [-0.574963  ],\n",
       "        [ 0.03004463],\n",
       "        [ 0.5575008 ],\n",
       "        [ 0.07262466],\n",
       "        [ 0.1967153 ],\n",
       "        [ 0.10724796],\n",
       "        [ 0.3401412 ],\n",
       "        [ 0.1951781 ],\n",
       "        [ 0.03333377],\n",
       "        [ 0.04581299],\n",
       "        [ 0.2668806 ],\n",
       "        [-0.49224997],\n",
       "        [ 0.48725286],\n",
       "        [-0.5043324 ],\n",
       "        [-0.44102535],\n",
       "        [-0.89274395],\n",
       "        [-0.03237611],\n",
       "        [-0.19640175],\n",
       "        [-0.2017394 ],\n",
       "        [-0.2128288 ],\n",
       "        [ 0.15979062],\n",
       "        [ 0.07834371],\n",
       "        [-0.14353618],\n",
       "        [-0.16068743],\n",
       "        [-0.19991688],\n",
       "        [-0.4019181 ],\n",
       "        [ 0.05425144],\n",
       "        [-0.27476746],\n",
       "        [-0.15186684],\n",
       "        [-0.1142238 ],\n",
       "        [ 0.20697095],\n",
       "        [ 0.01228106],\n",
       "        [-0.14797892],\n",
       "        [ 0.27470154],\n",
       "        [-0.05542278],\n",
       "        [ 0.14251035],\n",
       "        [ 0.14655215],\n",
       "        [ 0.2126531 ],\n",
       "        [ 0.18115678],\n",
       "        [-0.08950886],\n",
       "        [ 0.08104835],\n",
       "        [ 0.11987399],\n",
       "        [ 0.18767138],\n",
       "        [ 0.16603263],\n",
       "        [ 0.2102338 ],\n",
       "        [-0.01405003],\n",
       "        [-0.8477569 ],\n",
       "        [-0.11978235],\n",
       "        [ 0.00310269],\n",
       "        [-0.04919181],\n",
       "        [ 0.00788353],\n",
       "        [-0.12451141],\n",
       "        [-0.01820979],\n",
       "        [ 0.47648767],\n",
       "        [-0.2442357 ],\n",
       "        [ 0.36145842],\n",
       "        [-0.0071961 ],\n",
       "        [ 0.26631856],\n",
       "        [-0.07839127],\n",
       "        [ 0.10220776],\n",
       "        [ 0.14829317],\n",
       "        [-0.02356926],\n",
       "        [-0.5924775 ],\n",
       "        [ 0.02467334],\n",
       "        [ 0.09281586],\n",
       "        [-0.12817828],\n",
       "        [ 0.20099305],\n",
       "        [-0.18821917],\n",
       "        [-0.15068975],\n",
       "        [ 0.10540863],\n",
       "        [-0.19563219],\n",
       "        [ 0.10736497],\n",
       "        [ 0.14246267]], dtype=float32),\n",
       " array([-0.3686485], dtype=float32)]"
      ]
     },
     "execution_count": 18,
     "metadata": {},
     "output_type": "execute_result"
    }
   ],
   "source": [
    "model.get_weights()"
   ]
  },
  {
   "cell_type": "code",
   "execution_count": 19,
   "metadata": {},
   "outputs": [],
   "source": [
    "def decode_review(encoded_review):\n",
    "    return ' '.join([reverse_word_index.get(i - 3, '?') for i in encoded_review])\n",
    "\n",
    "# function to preprocess user input\n",
    "def preprocess_text(text):\n",
    "    words = text.lower().split()\n",
    "    encoded_review = [word_index.get(word,2) + 3 for word in words]\n",
    "    padded_review = sequence.pad_sequences([encoded_review], maxlen=500)\n",
    "    return padded_review"
   ]
  },
  {
   "cell_type": "code",
   "execution_count": 20,
   "metadata": {},
   "outputs": [],
   "source": [
    "# prediction function\n",
    "def predict_sentiment(review):\n",
    "   prepprocessed_input = preprocess_text(review)\n",
    "   predict = model.predict(prepprocessed_input)\n",
    "   sentiment = 'Positive' if predict[0][0] > 0.5 else 'Negative'\n",
    "   return sentiment, predict[0][0]"
   ]
  },
  {
   "cell_type": "code",
   "execution_count": 21,
   "metadata": {},
   "outputs": [
    {
     "name": "stdout",
     "output_type": "stream",
     "text": [
      "\u001b[1m1/1\u001b[0m \u001b[32m━━━━━━━━━━━━━━━━━━━━\u001b[0m\u001b[37m\u001b[0m \u001b[1m0s\u001b[0m 185ms/step\n"
     ]
    }
   ],
   "source": [
    "example_review = \"this movie was fantastic! the acting was great and the plot was thrilling\"\n",
    "sentiment, score = predict_sentiment(example_review)"
   ]
  },
  {
   "cell_type": "code",
   "execution_count": 22,
   "metadata": {},
   "outputs": [
    {
     "data": {
      "text/plain": [
       "('Positive', 0.92441714)"
      ]
     },
     "execution_count": 22,
     "metadata": {},
     "output_type": "execute_result"
    }
   ],
   "source": [
    "sentiment, score"
   ]
  },
  {
   "cell_type": "code",
   "execution_count": null,
   "metadata": {},
   "outputs": [],
   "source": []
  },
  {
   "cell_type": "code",
   "execution_count": null,
   "metadata": {},
   "outputs": [],
   "source": []
  }
 ],
 "metadata": {
  "kernelspec": {
   "display_name": "ann_env",
   "language": "python",
   "name": "python3"
  },
  "language_info": {
   "codemirror_mode": {
    "name": "ipython",
    "version": 3
   },
   "file_extension": ".py",
   "mimetype": "text/x-python",
   "name": "python",
   "nbconvert_exporter": "python",
   "pygments_lexer": "ipython3",
   "version": "3.11.11"
  }
 },
 "nbformat": 4,
 "nbformat_minor": 2
}
